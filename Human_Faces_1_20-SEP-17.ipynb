{
 "cells": [
  {
   "cell_type": "code",
   "execution_count": 8,
   "metadata": {},
   "outputs": [
    {
     "name": "stdout",
     "output_type": "stream",
     "text": [
      "<class 'numpy.ndarray'>\n"
     ]
    }
   ],
   "source": [
    "\n",
    "\n",
    "\"\"\"\n",
    "# construct the argument parse and parse the arguments\n",
    "ap = argparse.ArgumentParser()\n",
    "ap.add_argument(\"-i\", \"--image\", required=True,\n",
    "\thelp=\"path to the input image\")\n",
    "ap.add_argument(\"-c\", \"--cascade\",\n",
    "\tdefault=\"haarcascade_frontalcatface.xml\",\n",
    "\thelp=\"path to cat detector haar cascade\")\n",
    "args = vars(ap.parse_args())\n",
    "\n",
    "\"\"\" \n",
    "\n",
    "# Load image -- convert to grayscale\n",
    "\n",
    "cat_image = cv2.imread(\"images/r_1.jpg\")\n",
    "gray_image = cv2.cvtColor(cat_image, cv2.COLOR_BGR2GRAY)\n",
    "print(type(gray_image))\n",
    "\n"
   ]
  },
  {
   "cell_type": "code",
   "execution_count": 9,
   "metadata": {},
   "outputs": [
    {
     "data": {
      "text/plain": [
       "255"
      ]
     },
     "execution_count": 9,
     "metadata": {},
     "output_type": "execute_result"
    }
   ],
   "source": [
    "\n",
    "# load - Haar cascade, then detect cat faces\n",
    "# in the input image\n",
    "#detector = cv2.CascadeClassifier('haarcascade_frontalcatface.xml') ## path to Haar Cascade File .xml \n",
    "# haarcascade_frontalface_default\n",
    "detector = cv2.CascadeClassifier('haarcascade_frontalface_default.xml') ## path to Haar Cascade File .xml \n",
    "rects = detector.detectMultiScale(gray_image, scaleFactor=1.3,minNeighbors=10, minSize=(75, 75))\n",
    "\n",
    "# loop over the cat faces and draw a rectangle surrounding each\n",
    "for (i, (x, y, w, h)) in enumerate(rects):\n",
    "\tcv2.rectangle(cat_image, (x, y), (x + w, y + h), (0, 0, 255), 2)\n",
    "\tcv2.putText(cat_image, \"Cat #{}\".format(i + 1), (x, y - 10),\n",
    "\t\tcv2.FONT_HERSHEY_SIMPLEX, 0.55, (0, 0, 255), 2)\n",
    "\n",
    "# show the detected cat faces\n",
    "cv2.imshow(\"Cat Faces\", cat_image)\n",
    "cv2.waitKey(0)"
   ]
  },
  {
   "cell_type": "code",
   "execution_count": 10,
   "metadata": {},
   "outputs": [
    {
     "data": {
      "text/plain": [
       "255"
      ]
     },
     "execution_count": 10,
     "metadata": {},
     "output_type": "execute_result"
    }
   ],
   "source": [
    "\n",
    "# load - Haar cascade, then detect cat faces\n",
    "# in the input image\n",
    "#detector = cv2.CascadeClassifier('haarcascade_frontalcatface.xml') ## path to Haar Cascade File .xml \n",
    "# haarcascade_frontalface_default\n",
    "detector = cv2.CascadeClassifier('haarcascade_frontalface_default.xml') ## path to Haar Cascade File .xml \n",
    "rects = detector.detectMultiScale(gray_image, scaleFactor=1.3,minNeighbors=10, minSize=(75, 75))\n",
    "\n",
    "# loop over the cat faces and draw a rectangle surrounding each\n",
    "for (i, (x, y, w, h)) in enumerate(rects):\n",
    "\tcv2.rectangle(cat_image, (x, y), (x + w, y + h), (0, 0, 255), 2)\n",
    "\tcv2.putText(cat_image, \"Cat #{}\".format(i + 1), (x, y - 10),\n",
    "\t\tcv2.FONT_HERSHEY_SIMPLEX, 0.55, (0, 0, 255), 2)\n",
    "\n",
    "# show the detected cat faces\n",
    "cv2.imshow(\" Human Faces detection with haarcascade_frontalface_default.xml\", cat_image)\n",
    "cv2.waitKey(0)\n"
   ]
  },
  {
   "cell_type": "code",
   "execution_count": 11,
   "metadata": {},
   "outputs": [],
   "source": [
    "import cv2\n",
    "import numpy as np \n",
    "\n",
    "faceCascade = cv2.CascadeClassifier('haarcascade_frontalface_default.xml')\n",
    "\n",
    "# Read the image\n",
    "image = cv2.imread(\"images/monalisa.jpg\")\n",
    "gray = cv2.cvtColor(image, cv2.COLOR_BGR2GRAY)\n",
    "\n"
   ]
  },
  {
   "cell_type": "code",
   "execution_count": 12,
   "metadata": {},
   "outputs": [],
   "source": [
    "# Detect faces in the image\n",
    "faces = faceCascade.detectMultiScale(\n",
    "    gray,\n",
    "    scaleFactor=1.1,\n",
    "    minNeighbors=5,\n",
    "    minSize=(30, 30),\n",
    "    #flags = cv2.cv.CV_HAAR_SCALE_IMAGE ### Legacy Code ## https://stackoverflow.com/questions/33177376/what-is-the-cv2-cv-replacement-in-opencv3\n",
    "    flags = cv2.CASCADE_SCALE_IMAGE\n",
    ")\n",
    "\n",
    "# https://github.com/opencv/opencv/blob/master/samples/python/facedetect.py\n",
    "# https://stackoverflow.com/questions/36242860/attribute-error-while-using-opencv-for-face-recognition\n",
    "#\n"
   ]
  },
  {
   "cell_type": "code",
   "execution_count": 13,
   "metadata": {},
   "outputs": [
    {
     "name": "stdout",
     "output_type": "stream",
     "text": [
      "Found 1 faces!\n"
     ]
    }
   ],
   "source": [
    "print(\"Found {0} faces!\".format(len(faces)))\n",
    "\n",
    "# Draw a rectangle around the faces\n",
    "for (x, y, w, h) in faces:\n",
    "    cv2.rectangle(image, (x, y), (x+w, y+h), (0, 255, 0), 2)\n"
   ]
  },
  {
   "cell_type": "code",
   "execution_count": 14,
   "metadata": {},
   "outputs": [
    {
     "data": {
      "text/plain": [
       "255"
      ]
     },
     "execution_count": 14,
     "metadata": {},
     "output_type": "execute_result"
    }
   ],
   "source": [
    "cv2.imshow(\"Faces found\" ,image)\n",
    "cv2.waitKey(0)\n"
   ]
  }
 ],
 "metadata": {
  "kernelspec": {
   "display_name": "Python 3",
   "language": "python",
   "name": "python3"
  },
  "language_info": {
   "codemirror_mode": {
    "name": "ipython",
    "version": 3
   },
   "file_extension": ".py",
   "mimetype": "text/x-python",
   "name": "python",
   "nbconvert_exporter": "python",
   "pygments_lexer": "ipython3",
   "version": "3.5.2"
  }
 },
 "nbformat": 4,
 "nbformat_minor": 2
}
