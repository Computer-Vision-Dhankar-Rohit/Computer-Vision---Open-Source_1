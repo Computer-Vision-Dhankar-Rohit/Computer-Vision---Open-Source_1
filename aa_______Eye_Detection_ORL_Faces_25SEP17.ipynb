{
 "cells": [
  {
   "cell_type": "code",
   "execution_count": 4,
   "metadata": {},
   "outputs": [
    {
     "name": "stdout",
     "output_type": "stream",
     "text": [
      "<class 'cv2.CascadeClassifier'>\n"
     ]
    }
   ],
   "source": [
    "### Not sure if this Works ?? \n",
    "\n",
    "\n",
    "import os\n",
    "import numpy \n",
    "import cv2\n",
    "from matplotlib import pyplot as plt\n",
    "from PIL import Image\n",
    "\n",
    "face_cascade = cv2.CascadeClassifier('Haarcascades/haarcascade_frontalface_default.xml')\n",
    "eye_cascade = cv2.CascadeClassifier('Haarcascades/haarcascade_eye.xml')\n",
    "print(type(face_cascade))\n",
    "#"
   ]
  },
  {
   "cell_type": "code",
   "execution_count": 5,
   "metadata": {},
   "outputs": [
    {
     "name": "stdout",
     "output_type": "stream",
     "text": [
      "[[ 68  87  94 ...,  87  78  66]\n",
      " [ 74  86  81 ..., 102  71  66]\n",
      " [ 80  76  81 ..., 125  82  58]\n",
      " ..., \n",
      " [ 70  70  73 ...,  95  95  96]\n",
      " [ 69  76  69 ...,  95  95  95]\n",
      " [ 74  71  73 ...,  96  90  96]]\n",
      "<class 'numpy.ndarray'>\n"
     ]
    }
   ],
   "source": [
    "image_rootDir=\"images/orl_faces/test_eyes/\"\n",
    "for dirName, subdirList, fileList in os.walk(image_rootDir):\n",
    "        for fname in fileList:\n",
    "            if fname.endswith(('.pgm')):\n",
    "                #p1=[]\n",
    "                label=os.path.basename(dirName)\n",
    "                image_path = os.path.join(dirName, fname)\n",
    "                image_pil = Image.open(image_path).convert('L')\n",
    "                image = numpy.array(image_pil, 'uint8')\n",
    "                                \n",
    "                count = 1                                         ## Counter for image names \n",
    "                cv2.imshow(\"image\",image)\n",
    "                cv2.waitKey(0)\n",
    "                cv2.destroyAllWindows()                           ## Makes sure iPython Kernel Doesnt BREAK\n",
    "                faces = face_cascade.detectMultiScale(image,1.1, 5)\n",
    "  \n",
    "                try:\n",
    "                    for (x,y,w,h) in faces:\n",
    "                        roi_gray = image[y:y+h, x:x+w]\n",
    "                        print(roi_gray)\n",
    "                        print(type(roi_gray))\n",
    "                        cv2.imwrite(\"images/orl_faces_eyes/\" + str(count+1) + \".jpg\",roi_gray)\n",
    "                        eyes = eye_cascade.detectMultiScale(roi_gray)\n",
    "                        for (ex,ey,ew,eh) in eyes:\n",
    "                            eye_gray=image[ey:ey+eh,ex:ex+ew]\n",
    "                            cv2.imwrite(\"images/orl_faces_eyes/eyes/\" +fname + \".jpg\",eye_gray)\n",
    "                except TypeError: \n",
    "                    print(fname)\n",
    "                    continue\n",
    "#"
   ]
  }
 ],
 "metadata": {
  "kernelspec": {
   "display_name": "Python 3",
   "language": "python",
   "name": "python3"
  },
  "language_info": {
   "codemirror_mode": {
    "name": "ipython",
    "version": 3
   },
   "file_extension": ".py",
   "mimetype": "text/x-python",
   "name": "python",
   "nbconvert_exporter": "python",
   "pygments_lexer": "ipython3",
   "version": "3.5.2"
  }
 },
 "nbformat": 4,
 "nbformat_minor": 2
}
